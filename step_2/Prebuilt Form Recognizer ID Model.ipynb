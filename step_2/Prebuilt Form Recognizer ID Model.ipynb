{
 "cells": [
  {
   "cell_type": "markdown",
   "metadata": {},
   "source": [
    "### Please install the required Python modules/SDKs"
   ]
  },
  {
   "cell_type": "code",
   "execution_count": null,
   "metadata": {},
   "outputs": [],
   "source": [
    "! activate ai-azure-c1\n",
    "\n",
    "import sys\n",
    "\n",
    "sys.path.append(\"/opt/conda/envs/ai-azure-c1/lib/python3.8/site-packages\")"
   ]
  },
  {
   "cell_type": "markdown",
   "metadata": {},
   "source": [
    "## Importing Azure Form Recognizer python modules"
   ]
  },
  {
   "cell_type": "code",
   "execution_count": 1,
   "metadata": {},
   "outputs": [],
   "source": [
    "from azure.core.credentials import AzureKeyCredential\n",
    "from azure.ai.formrecognizer import FormRecognizerClient"
   ]
  },
  {
   "cell_type": "code",
   "execution_count": 2,
   "metadata": {},
   "outputs": [],
   "source": [
    "AZURE_FORM_RECOGNIZER_ENDPOINT = \"https://myformrecognizer120923.cognitiveservices.azure.com/\"\n",
    "AZURE_FORM_RECOGNIZER_KEY = \"891a658c8b8745beacf3784d7c617380\""
   ]
  },
  {
   "cell_type": "code",
   "execution_count": 3,
   "metadata": {},
   "outputs": [],
   "source": [
    "endpoint = AZURE_FORM_RECOGNIZER_ENDPOINT\n",
    "key = AZURE_FORM_RECOGNIZER_KEY"
   ]
  },
  {
   "cell_type": "code",
   "execution_count": 4,
   "metadata": {},
   "outputs": [],
   "source": [
    "form_recognizer_client = FormRecognizerClient(endpoint=endpoint, credential=AzureKeyCredential(key))"
   ]
  },
  {
   "cell_type": "markdown",
   "metadata": {},
   "source": [
    "### Source Document"
   ]
  },
  {
   "cell_type": "code",
   "execution_count": 5,
   "metadata": {},
   "outputs": [],
   "source": [
    "content_url = \"https://raw.githubusercontent.com/udacity/cd0461-building-computer-vision-solutions-with-azure-exercises/main/resources/ca-dl-sample.png\""
   ]
  },
  {
   "cell_type": "code",
   "execution_count": 17,
   "metadata": {},
   "outputs": [],
   "source": [
    "content_url = \"https://raw.githubusercontent.com/Ed-Ramos/AI-with-Azure-Airport-Kiosk/main/material_preparation_step/ca-dl-james-jackson.png\""
   ]
  },
  {
   "cell_type": "code",
   "execution_count": 18,
   "metadata": {},
   "outputs": [],
   "source": [
    "id_content_from_url = form_recognizer_client.begin_recognize_identity_documents_from_url(content_url)"
   ]
  },
  {
   "cell_type": "markdown",
   "metadata": {},
   "source": [
    "### Use the following if your source document is located the local disk"
   ]
  },
  {
   "cell_type": "code",
   "execution_count": null,
   "metadata": {},
   "outputs": [],
   "source": [
    "## Optional \n",
    "form_recognizer_client.begin_recognize_identity_documents()"
   ]
  },
  {
   "cell_type": "code",
   "execution_count": 19,
   "metadata": {},
   "outputs": [],
   "source": [
    "collected_id_cards = id_content_from_url.result()"
   ]
  },
  {
   "cell_type": "code",
   "execution_count": 20,
   "metadata": {},
   "outputs": [
    {
     "data": {
      "text/plain": [
       "[RecognizedForm(form_type=prebuilt:idDocument:driverLicense, fields={'CountryRegion': FormField(value_type=countryRegion, label_data=None, value_data=None, name=CountryRegion, value='USA', confidence=0.99), 'DateOfBirth': FormField(value_type=date, label_data=None, value_data=FieldData(page_number=1, text=10/12/1956, bounding_box=[Point(x=216.0, y=183.0), Point(x=285.0, y=182.0), Point(x=284.0, y=196.0), Point(x=216.0, y=196.0)], field_elements=None), name=DateOfBirth, value=datetime.date(1956, 10, 12), confidence=0.995), 'DateOfExpiration': FormField(value_type=date, label_data=None, value_data=FieldData(page_number=1, text=02/20/2027, bounding_box=[Point(x=214.0, y=94.0), Point(x=285.0, y=94.0), Point(x=285.0, y=108.0), Point(x=214.0, y=108.0)], field_elements=None), name=DateOfExpiration, value=datetime.date(2027, 2, 20), confidence=0.993), 'DocumentNumber': FormField(value_type=string, label_data=None, value_data=FieldData(page_number=1, text=D9753933, bounding_box=[Point(x=205.0, y=69.0), Point(x=271.0, y]"
      ]
     },
     "execution_count": 20,
     "metadata": {},
     "output_type": "execute_result"
    }
   ],
   "source": [
    "collected_id_cards"
   ]
  },
  {
   "cell_type": "code",
   "execution_count": 21,
   "metadata": {},
   "outputs": [
    {
     "data": {
      "text/plain": [
       "azure.ai.formrecognizer._models.RecognizedForm"
      ]
     },
     "execution_count": 21,
     "metadata": {},
     "output_type": "execute_result"
    }
   ],
   "source": [
    "type(collected_id_cards[0])"
   ]
  },
  {
   "cell_type": "markdown",
   "metadata": {},
   "source": [
    "## Processing the results"
   ]
  },
  {
   "cell_type": "code",
   "execution_count": 22,
   "metadata": {},
   "outputs": [],
   "source": [
    "def get_id_card_details(identity_card):\n",
    "    first_name = identity_card.fields.get(\"FirstName\")\n",
    "    if first_name:\n",
    "        print(\"First Name: {} has confidence: {}\".format(first_name.value, first_name.confidence))\n",
    "    last_name = identity_card.fields.get(\"LastName\")\n",
    "    if last_name:\n",
    "        print(\"Last Name: {} has confidence: {}\".format(last_name.value, last_name.confidence))\n",
    "    document_number = identity_card.fields.get(\"DocumentNumber\")\n",
    "    if document_number:\n",
    "        print(\"Document Number: {} has confidence: {}\".format(document_number.value, document_number.confidence))\n",
    "    dob = identity_card.fields.get(\"DateOfBirth\")\n",
    "    if dob:\n",
    "        print(\"Date of Birth: {} has confidence: {}\".format(dob.value, dob.confidence))\n",
    "    doe = identity_card.fields.get(\"DateOfExpiration\")\n",
    "    if doe:\n",
    "        print(\"Date of Expiration: {} has confidence: {}\".format(doe.value, doe.confidence))\n",
    "    sex = identity_card.fields.get(\"Sex\")\n",
    "    if sex:\n",
    "        print(\"Sex: {} has confidence: {}\".format(sex.value, sex.confidence))\n",
    "    address = identity_card.fields.get(\"Address\")\n",
    "    if address:\n",
    "        print(\"Address: {} has confidence: {}\".format(address.value, address.confidence))\n",
    "    country_region = identity_card.fields.get(\"CountryRegion\")\n",
    "    if country_region:\n",
    "        print(\"Country/Region: {} has confidence: {}\".format(country_region.value, country_region.confidence))\n",
    "    region = identity_card.fields.get(\"Region\")\n",
    "    if region:\n",
    "        print(\"Region: {} has confidence: {}\".format(region.value, region.confidence))"
   ]
  },
  {
   "cell_type": "code",
   "execution_count": 23,
   "metadata": {},
   "outputs": [
    {
     "name": "stdout",
     "output_type": "stream",
     "text": [
      "First Name: James has confidence: 0.822\n",
      "Last Name: Jackson has confidence: 0.906\n",
      "Document Number: D9753933 has confidence: 0.995\n",
      "Date of Birth: 1956-10-12 has confidence: 0.995\n",
      "Date of Expiration: 2027-02-20 has confidence: 0.993\n",
      "Sex: M has confidence: 0.985\n",
      "Country/Region: USA has confidence: 0.99\n",
      "Region: California has confidence: 0.99\n"
     ]
    }
   ],
   "source": [
    "get_id_card_details(collected_id_cards[0])"
   ]
  },
  {
   "cell_type": "code",
   "execution_count": 24,
   "metadata": {},
   "outputs": [
    {
     "name": "stdout",
     "output_type": "stream",
     "text": [
      "Displaying identity card details ....... # 1\n",
      "First Name: James has confidence: 0.822\n",
      "Last Name: Jackson has confidence: 0.906\n",
      "Document Number: D9753933 has confidence: 0.995\n",
      "Date of Birth: 1956-10-12 has confidence: 0.995\n",
      "Date of Expiration: 2027-02-20 has confidence: 0.993\n",
      "Sex: M has confidence: 0.985\n",
      "Country/Region: USA has confidence: 0.99\n",
      "Region: California has confidence: 0.99\n",
      "---------------- EOL -------------------------\n"
     ]
    }
   ],
   "source": [
    "for index_id, id_card in enumerate(collected_id_cards):\n",
    "    print(\"Displaying identity card details ....... # {}\".format(index_id+1))\n",
    "    get_id_card_details(id_card)\n",
    "    print(\"---------------- EOL -------------------------\")"
   ]
  },
  {
   "cell_type": "code",
   "execution_count": null,
   "metadata": {},
   "outputs": [],
   "source": []
  }
 ],
 "metadata": {
  "kernelspec": {
   "display_name": "Python 3",
   "language": "python",
   "name": "python3"
  },
  "language_info": {
   "codemirror_mode": {
    "name": "ipython",
    "version": 3
   },
   "file_extension": ".py",
   "mimetype": "text/x-python",
   "name": "python",
   "nbconvert_exporter": "python",
   "pygments_lexer": "ipython3",
   "version": "3.8.11"
  }
 },
 "nbformat": 4,
 "nbformat_minor": 4
}
